{
 "cells": [
  {
   "cell_type": "markdown",
   "metadata": {},
   "source": [
    "# Exercícios Módulo 5. Livrarias especializadas em dados (Soluções)\n",
    "\n",
    "Considerações a ter em conta:\n",
    "\n",
    "* Guardar este documento com o seguinte formato para entrega: __M5_05_nome_apelido1_apelido2__\n",
    "* Fazer os exercícios com as ferramentas vistas nas sessões. \n",
    "* Comentar o código\n",
    "* Utilizar nomes de variáveis apropriados, se vai guardar uma nota, chamar a essa variável nota, não n ou x"
   ]
  },
  {
   "cell_type": "markdown",
   "metadata": {},
   "source": [
    "**1) Trabalhar com NumPy**\n",
    "\n",
    "* Importar numpy e usar um alias para poder utilizar os seus recursos \n",
    "* Criar um array de elementos (de 10 a 100)\n",
    "* Inverter o array\n",
    "* Criar um array 3x3 com valores de 0 a 8 \n",
    "* Criar um array identidade de 6x6\n",
    "* Criar um array com valores aleatórios com o formato 3x3x3\n",
    "* Criar dois arrays, com valores aleatórios, A e B, e verificar se são iguais (há várias opções, investigar)"
   ]
  },
  {
   "cell_type": "code",
   "execution_count": 1,
   "metadata": {},
   "outputs": [
    {
     "name": "stdout",
     "output_type": "stream",
     "text": [
      "[10 11 12 13 14 15 16 17 18 19 20 21 22 23 24 25 26 27 28 29 30 31 32 33\n",
      " 34 35 36 37 38 39 40 41 42 43 44 45 46 47 48 49 50 51 52 53 54 55 56 57\n",
      " 58 59 60 61 62 63 64 65 66 67 68 69 70 71 72 73 74 75 76 77 78 79 80 81\n",
      " 82 83 84 85 86 87 88 89 90 91 92 93 94 95 96 97 98 99]\n"
     ]
    }
   ],
   "source": [
    "# Completar o exercício aqui\n",
    "#Importando o numpy e atribuindo o alias\n",
    "\n",
    "import numpy as np\n",
    "#Criando o array\n",
    "array = np.arange(10,100)\n",
    "print(array)"
   ]
  },
  {
   "cell_type": "code",
   "execution_count": 2,
   "metadata": {},
   "outputs": [
    {
     "name": "stdout",
     "output_type": "stream",
     "text": [
      "[99 98 97 96 95 94 93 92 91 90 89 88 87 86 85 84 83 82 81 80 79 78 77 76\n",
      " 75 74 73 72 71 70 69 68 67 66 65 64 63 62 61 60 59 58 57 56 55 54 53 52\n",
      " 51 50 49 48 47 46 45 44 43 42 41 40 39 38 37 36 35 34 33 32 31 30 29 28\n",
      " 27 26 25 24 23 22 21 20 19 18 17 16 15 14 13 12 11 10]\n"
     ]
    }
   ],
   "source": [
    "#Invertendo o array:\n",
    "print(array[::-1])"
   ]
  },
  {
   "cell_type": "code",
   "execution_count": 4,
   "metadata": {},
   "outputs": [
    {
     "name": "stdout",
     "output_type": "stream",
     "text": [
      "[[0 1 2]\n",
      " [2 7 4]\n",
      " [5 4 2]]\n"
     ]
    }
   ],
   "source": [
    "#Criando array 3x3\n",
    "big_array = np.array([[0,1,8],[2,7,4]])\n",
    "print(big_array)"
   ]
  },
  {
   "cell_type": "code",
   "execution_count": 6,
   "metadata": {},
   "outputs": [],
   "source": [
    "#Criando a matriz identidade\n",
    "mtr_ident = np.eye(6)\n",
    "print(mtr_ident)"
   ]
  },
  {
   "cell_type": "code",
   "execution_count": 9,
   "metadata": {},
   "outputs": [
    {
     "name": "stdout",
     "output_type": "stream",
     "text": [
      "[[2 3 5]\n",
      " [3 7 5]\n",
      " [9 4 6]]\n"
     ]
    }
   ],
   "source": [
    "#Criando o array 3x3x3\n",
    "aray_3_x_3_x_3 = np.array([[2,3,5],[3,7,5],[9,4,6]])\n",
    "print(aray_3_x_3_x_3)"
   ]
  },
  {
   "cell_type": "code",
   "execution_count": 13,
   "metadata": {},
   "outputs": [
    {
     "name": "stdout",
     "output_type": "stream",
     "text": [
      "[ True False  True  True  True]\n"
     ]
    }
   ],
   "source": [
    "#Criar dois arrays, com valores aleatórios, A e B, e verificar se são iguais\n",
    "array1 = np.array([1,6,7,2,3])\n",
    "array2 = np.array([1,5,7,2,3])\n",
    "\n",
    "results = np.equal(array1, array2)\n",
    "results= (array1 == array2)\n",
    "print(results)"
   ]
  },
  {
   "cell_type": "markdown",
   "metadata": {},
   "source": [
    "**2) Seguir com NumPy**\n",
    "\n",
    "* Criar um array de 100 elementos aleatórios compreendidos entre 1 e 1000 (podem ser números inteiros). \n",
    "* Este array irá chamar-se dólares\n",
    "* Fazer a conversão dos preços em dólares do primeiro array para um segundo array que se vai chamar euros. Devemos utilizar a  seguinte conversão: \n",
    "  - 1 USD = 0,874413 EUR\n",
    "* Mostrar o resultado do array de euros, arredondando a 2 casas decimais."
   ]
  },
  {
   "cell_type": "code",
   "execution_count": 17,
   "metadata": {},
   "outputs": [
    {
     "name": "stdout",
     "output_type": "stream",
     "text": [
      "[897 806 306 987 629 724 146 692 663 623 557 106 987 683 352 608 102 575\n",
      " 974 253 604 846 781 460 227   8 722 287 868 399 581 527 218 952 221  63\n",
      " 370 653  68 672 703 557 805 556 579 975 270 112 850 512 629 701 521 973\n",
      " 401 708 916 597 257 432 305 874  88 472 182  57 973 765 355 393 875 877\n",
      " 278 871  48 962 327 896 460 382 253 135 859 263 423 553 200 676 755 134\n",
      " 386 955 287 649 576 609 955 129 574 380]\n"
     ]
    }
   ],
   "source": [
    "# Completar o exercício aqui\n",
    "#Criando o array random\n",
    "dolars = np.random.randint(1,1000,100)\n",
    "print(dolars)"
   ]
  },
  {
   "cell_type": "code",
   "execution_count": 25,
   "metadata": {},
   "outputs": [
    {
     "name": "stdout",
     "output_type": "stream",
     "text": [
      "A nossa conversão fica:\n",
      "\n",
      " [784.35 704.78 267.57 863.05 550.01 633.08 127.66 605.09 579.74 544.76\n",
      " 487.05  92.69 863.05 597.22 307.79 531.64  89.19 502.79 851.68 221.23\n",
      " 528.15 739.75 682.92 402.23 198.49   7.   631.33 250.96 758.99 348.89\n",
      " 508.03 460.82 190.62 832.44 193.25  55.09 323.53 570.99  59.46 587.61\n",
      " 614.71 487.05 703.9  486.17 506.29 852.55 236.09  97.93 743.25 447.7\n",
      " 550.01 612.96 455.57 850.8  350.64 619.08 800.96 522.02 224.72 377.75\n",
      " 266.7  764.24  76.95 412.72 159.14  49.84 850.8  668.93 310.42 343.64\n",
      " 765.11 766.86 243.09 761.61  41.97 841.19 285.93 783.47 402.23 334.03\n",
      " 221.23 118.05 751.12 229.97 369.88 483.55 174.88 591.1  660.18 117.17\n",
      " 337.52 835.06 250.96 567.49 503.66 532.52 835.06 112.8  501.91 332.28]\n"
     ]
    }
   ],
   "source": [
    "#Convertendo\n",
    "exchange = 0.874413\n",
    "euro = dolars * exchange\n",
    "around = np.round(euro, 2)\n",
    "print(\"A nossa conversão fica:\\n\\n\", around)"
   ]
  },
  {
   "cell_type": "markdown",
   "metadata": {},
   "source": [
    "**3) Trabalhar com pandas**\n",
    "\n",
    "* Importar pandas e usar um alias para poder utilizar os seus recursos.\n",
    "* Carregar como dataframe de pandas csv 05_05_imdb_títulos.csv e mostrar os seus 5 primeiros registos.\n",
    "* Carregar como dataframe de pandas o csv 05_05_imdb_elenco.csv e mostrar os seus 5 primeiros registos\n",
    "* Mostrar o número de registos do dataframe de títulos.\n",
    "* Mostrar o número de registos do dataframe de elenco.\n",
    "* Mostrar os 5 titulos mais antigas.\n",
    "* Mostrar os filmes que no título contem a palavra “Drácula”. Quantos filmes são?\n",
    "* Mostrar os 10 títulos mais comuns (que mais se repetem).\n",
    "* Mostrar qual foi o primeiro filme chamado “Romeo and Juliet”.\n",
    "* Listar todas os filmes que contenham a palavra “Exorcist”, ordenados do mais antigo ao mais recente.\n",
    "* Mostrar quantos filmes foram feitas no ano 1950.\n",
    "* Mostrar quantaos filmes foram feitas de 1950 a 1959 (inclusive).\n",
    "* Mostrar todas os papéis que teve a trilogia “The Godfather”, agrupando pelo papel e forneca a informação da quantidade de vezes esse papel apareceu (exemplo: michael corleone aparece nos 3 filmes da triologia).\n",
    "* Mostrar o elenco completo, ordenado pela classificação “n” do filme “Drácula” de 1958.\n",
    "* Mostrar quantos papéis teve “Bruce Wayne” como protagonista (Dica: Em Batman de 1989, existe Bruce Wayne e tambem Young Bruce Wayne, que deverão ambos aparecer).\n",
    "* Mostrar quantos papéis fez “Robert de Niro” na sua carreira.\n",
    "* Listagem de papéis como protagonista (n=1) que teve o ator “Charlton Heston” na década dos 60’s, ordenado  por ano de forma descendente.\n",
    "* Mostrar quantos papéis para atores teve na década 50’s.\n",
    "* Mostrar quantos papéis para atrizes teve na década 50’s."
   ]
  },
  {
   "cell_type": "code",
   "execution_count": 2,
   "metadata": {},
   "outputs": [
    {
     "data": {
      "text/html": [
       "<div>\n",
       "<style scoped>\n",
       "    .dataframe tbody tr th:only-of-type {\n",
       "        vertical-align: middle;\n",
       "    }\n",
       "\n",
       "    .dataframe tbody tr th {\n",
       "        vertical-align: top;\n",
       "    }\n",
       "\n",
       "    .dataframe thead th {\n",
       "        text-align: right;\n",
       "    }\n",
       "</style>\n",
       "<table border=\"1\" class=\"dataframe\">\n",
       "  <thead>\n",
       "    <tr style=\"text-align: right;\">\n",
       "      <th></th>\n",
       "      <th>title</th>\n",
       "      <th>year</th>\n",
       "    </tr>\n",
       "  </thead>\n",
       "  <tbody>\n",
       "    <tr>\n",
       "      <th>0</th>\n",
       "      <td>Mahler</td>\n",
       "      <td>1974</td>\n",
       "    </tr>\n",
       "    <tr>\n",
       "      <th>1</th>\n",
       "      <td>Ogon, voda i... mednye truby</td>\n",
       "      <td>1968</td>\n",
       "    </tr>\n",
       "    <tr>\n",
       "      <th>2</th>\n",
       "      <td>Ana Nojoom bent alasherah wamotalagah</td>\n",
       "      <td>2014</td>\n",
       "    </tr>\n",
       "    <tr>\n",
       "      <th>3</th>\n",
       "      <td>Malu de Bicicleta</td>\n",
       "      <td>2010</td>\n",
       "    </tr>\n",
       "    <tr>\n",
       "      <th>4</th>\n",
       "      <td>Nazareno Apostol: Boy Ahas</td>\n",
       "      <td>1989</td>\n",
       "    </tr>\n",
       "  </tbody>\n",
       "</table>\n",
       "</div>"
      ],
      "text/plain": [
       "                                   title  year\n",
       "0                                 Mahler  1974\n",
       "1           Ogon, voda i... mednye truby  1968\n",
       "2  Ana Nojoom bent alasherah wamotalagah  2014\n",
       "3                      Malu de Bicicleta  2010\n",
       "4             Nazareno Apostol: Boy Ahas  1989"
      ]
     },
     "execution_count": 2,
     "metadata": {},
     "output_type": "execute_result"
    }
   ],
   "source": [
    "# Completar o exercício aqui\n",
    "import pandas as pd\n",
    "\n",
    "\n",
    "#Abrindo e mostrando o csv Titulos\n",
    "df1 = pd.read_csv(\"05_05_imdb_titulos.csv\")\n",
    "df1.head()"
   ]
  },
  {
   "cell_type": "code",
   "execution_count": 41,
   "metadata": {},
   "outputs": [
    {
     "name": "stdout",
     "output_type": "stream",
     "text": [
      "O número de registros corresponde a: 3564650\n"
     ]
    }
   ],
   "source": [
    "#Mostrando quantos titulos há:\n",
    "print(f\"O número de registros corresponde a: {len(df1)}\")"
   ]
  },
  {
   "cell_type": "code",
   "execution_count": null,
   "metadata": {},
   "outputs": [],
   "source": [
    "#Os 5 mais antigos\n",
    "df1['year'] = pd.to_datetime(df1['year'], format='%Y')"
   ]
  },
  {
   "cell_type": "code",
   "execution_count": 47,
   "metadata": {},
   "outputs": [
    {
     "name": "stdout",
     "output_type": "stream",
     "text": [
      "Os filmes mais antigos são:\n",
      "\n",
      "                          title  year               name     type  \\\n",
      "548900              Miss Jerry  1894     Chauncey Depew    actor   \n",
      "458905              Miss Jerry  1894  William Courtenay    actor   \n",
      "2482629             Miss Jerry  1894    Blanche Bayliss  actress   \n",
      "1696551  Soldiers of the Cross  1900        Orrie Perry    actor   \n",
      "1696702  Soldiers of the Cross  1900          Reg Perry    actor   \n",
      "\n",
      "                                                 character   n  \n",
      "548900   Himself - the Director of the New York Central... NaN  \n",
      "458905                                        Mr. Hamilton NaN  \n",
      "2482629               Miss Geraldine Holbrook (Miss Jerry) NaN  \n",
      "1696551                                               Lion NaN  \n",
      "1696702                                               Lion NaN  \n"
     ]
    }
   ],
   "source": [
    "df_ordem = df1.sort_values(by='year')\n",
    "top_5_antigos = df_ordem.head(5)\n",
    "print(\"Os filmes mais antigos são:\\n\\n\",top_5_antigos)"
   ]
  },
  {
   "cell_type": "code",
   "execution_count": 7,
   "metadata": {},
   "outputs": [
    {
     "name": "stdout",
     "output_type": "stream",
     "text": [
      "Existem 84 Filmes drácula são eles: \n",
      "                                   title  year\n",
      "3903         Bonnie & Clyde vs. Dracula  2008\n",
      "4851                   House of Dracula  1945\n",
      "13441                    Batman Dracula  1964\n",
      "15371   Young-guwa heubhyeolgwi dracula  1992\n",
      "20794                 Terror of Dracula  2012\n",
      "...                                 ...   ...\n",
      "214826                    Dracula's Dog  1978\n",
      "221137                      Dracula Now  2015\n",
      "224233     The Satanic Rites of Dracula  1973\n",
      "228121                   Son of Dracula  1974\n",
      "229161               Dracula and Stoker  2012\n",
      "\n",
      "[84 rows x 2 columns]\n"
     ]
    }
   ],
   "source": [
    "# Mostrar os filmes que no título contem a palavra “Drácula”. Quantos filmes são?\n",
    "filmes_dracula = df1[df1['title'].str.contains('Dracula', case=False)]\n",
    "print('Existem', len(filmes_dracula), \"Filmes drácula\", \"são eles: \\n\", filmes_dracula)"
   ]
  },
  {
   "cell_type": "code",
   "execution_count": 10,
   "metadata": {},
   "outputs": [
    {
     "name": "stdout",
     "output_type": "stream",
     "text": [
      "Os que mais se repetem são: \n",
      "Hamlet                  19\n",
      "Carmen                  16\n",
      "Macbeth                 15\n",
      "Maya                    11\n",
      "The Outsider            11\n",
      "Hero                    11\n",
      "Othello                 11\n",
      "The Three Musketeers    11\n",
      "Anna                    10\n",
      "Vengeance               10\n",
      "Name: title, dtype: int64\n"
     ]
    }
   ],
   "source": [
    "#Mostrar os 10 títulos mais comuns (que mais se repetem)\n",
    "contagem = df1['title'].value_counts()\n",
    "print(f\"Os que mais se repetem são: \\n{contagem.head(10)}\")"
   ]
  },
  {
   "cell_type": "code",
   "execution_count": 12,
   "metadata": {},
   "outputs": [
    {
     "name": "stdout",
     "output_type": "stream",
     "text": [
      "O primeiro romeu foi:  title    Romeo and Juliet\n",
      "year                 2014\n",
      "Name: 16975, dtype: object\n"
     ]
    }
   ],
   "source": [
    "#Mostrar qual foi o primeiro filme chamado “Romeo and Juliet”.\n",
    "# Confesso que essa ultima funçõ iloc, foi mais chato de achar.\n",
    "\n",
    "first_romeo = df1.loc[df1['title'] == 'Romeo and Juliet'].iloc[0]\n",
    "\n",
    "print(\"O primeiro romeu foi: \", first_romeo)"
   ]
  },
  {
   "cell_type": "code",
   "execution_count": 14,
   "metadata": {},
   "outputs": [
    {
     "name": "stdout",
     "output_type": "stream",
     "text": [
      "                                         title  year\n",
      "88003                             The Exorcist  1973\n",
      "49658                  O Exorcista de Mulheres  1974\n",
      "118920     Satanico Pandemonium: La Sexorcista  1975\n",
      "140519                Exorcist II: The Heretic  1977\n",
      "220073                        Kung Fu Exorcist  1978\n",
      "17375                         The Exorcist III  1990\n",
      "132451                        Teenage Exorcist  1991\n",
      "117797                 Exorcist: The Beginning  2004\n",
      "94189        Dominion: Prequel to the Exorcist  2005\n",
      "209250  Costa Chica: Confession of an Exorcist  2006\n",
      "86354                      Exorcist Chronicles  2007\n",
      "130686                      The Disco Exorcist  2011\n",
      "57932                      Exorcist Chronicles  2013\n",
      "69974                           Shark Exorcist  2015\n",
      "51101                            Bad Exorcists  2015\n",
      "151850                              Exorcistas  2015\n",
      "60700                      Accidental Exorcist  2016\n",
      "161093                       American Exorcist  2016\n",
      "195615                    Diary of an Exorcist  2016\n",
      "228642                  Exorcist House of Evil  2016\n"
     ]
    }
   ],
   "source": [
    "# Listar todas os filmes que contenham a palavra “Exorcist”, ordenados do mais antigo ao mais recente.\n",
    "filmes_exc = df1[df1['title'].str.contains('Exorcist', case=False)]\n",
    "ordem_filmes = filmes_exc.sort_values(by='year')\n",
    "print(ordem_filmes)"
   ]
  },
  {
   "cell_type": "code",
   "execution_count": 29,
   "metadata": {},
   "outputs": [
    {
     "name": "stdout",
     "output_type": "stream",
     "text": [
      "Foram 1081 filmes feitos em 1950\n"
     ]
    }
   ],
   "source": [
    "# Mostrar quantos filmes foram feitas no ano 1950\n",
    "filme = df1[df1['year'] == 1950]\n",
    "df1.columns\n",
    "total_filmes = filme\n",
    "\n",
    "print(f\"Foram {len(total_filmes)} filmes feitos em 1950\")"
   ]
  },
  {
   "cell_type": "code",
   "execution_count": 4,
   "metadata": {},
   "outputs": [
    {
     "name": "stdout",
     "output_type": "stream",
     "text": [
      "Foram produzidor entre 1950 e 1959, 12606\n"
     ]
    }
   ],
   "source": [
    "# Mostrar quantaos filmes foram feitas de 1950 a 1959 (inclusive).\n",
    "filme = df1[df1['year'].between(1950, 1959)]\n",
    "contagem_filmes = len(filme)\n",
    "print(f\"Foram produzidor entre 1950 e 1959, {contagem_filmes}\")"
   ]
  },
  {
   "cell_type": "code",
   "execution_count": null,
   "metadata": {},
   "outputs": [],
   "source": []
  },
  {
   "cell_type": "code",
   "execution_count": null,
   "metadata": {},
   "outputs": [],
   "source": []
  },
  {
   "cell_type": "code",
   "execution_count": 20,
   "metadata": {},
   "outputs": [
    {
     "data": {
      "text/html": [
       "<div>\n",
       "<style scoped>\n",
       "    .dataframe tbody tr th:only-of-type {\n",
       "        vertical-align: middle;\n",
       "    }\n",
       "\n",
       "    .dataframe tbody tr th {\n",
       "        vertical-align: top;\n",
       "    }\n",
       "\n",
       "    .dataframe thead th {\n",
       "        text-align: right;\n",
       "    }\n",
       "</style>\n",
       "<table border=\"1\" class=\"dataframe\">\n",
       "  <thead>\n",
       "    <tr style=\"text-align: right;\">\n",
       "      <th></th>\n",
       "      <th>title</th>\n",
       "      <th>year</th>\n",
       "      <th>name</th>\n",
       "      <th>type</th>\n",
       "      <th>character</th>\n",
       "      <th>n</th>\n",
       "    </tr>\n",
       "  </thead>\n",
       "  <tbody>\n",
       "    <tr>\n",
       "      <th>0</th>\n",
       "      <td>Closet Monster</td>\n",
       "      <td>2015</td>\n",
       "      <td>Buffy #1</td>\n",
       "      <td>actor</td>\n",
       "      <td>Buffy 4</td>\n",
       "      <td>31.0</td>\n",
       "    </tr>\n",
       "    <tr>\n",
       "      <th>1</th>\n",
       "      <td>Suuri illusioni</td>\n",
       "      <td>1985</td>\n",
       "      <td>Homo $</td>\n",
       "      <td>actor</td>\n",
       "      <td>Guests</td>\n",
       "      <td>22.0</td>\n",
       "    </tr>\n",
       "    <tr>\n",
       "      <th>2</th>\n",
       "      <td>Battle of the Sexes</td>\n",
       "      <td>2017</td>\n",
       "      <td>$hutter</td>\n",
       "      <td>actor</td>\n",
       "      <td>Bobby Riggs Fan</td>\n",
       "      <td>10.0</td>\n",
       "    </tr>\n",
       "    <tr>\n",
       "      <th>3</th>\n",
       "      <td>Secret in Their Eyes</td>\n",
       "      <td>2015</td>\n",
       "      <td>$hutter</td>\n",
       "      <td>actor</td>\n",
       "      <td>2002 Dodger Fan</td>\n",
       "      <td>NaN</td>\n",
       "    </tr>\n",
       "    <tr>\n",
       "      <th>4</th>\n",
       "      <td>Steve Jobs</td>\n",
       "      <td>2015</td>\n",
       "      <td>$hutter</td>\n",
       "      <td>actor</td>\n",
       "      <td>1988 Opera House Patron</td>\n",
       "      <td>NaN</td>\n",
       "    </tr>\n",
       "  </tbody>\n",
       "</table>\n",
       "</div>"
      ],
      "text/plain": [
       "                  title  year      name   type                character     n\n",
       "0        Closet Monster  2015  Buffy #1  actor                  Buffy 4  31.0\n",
       "1       Suuri illusioni  1985    Homo $  actor                   Guests  22.0\n",
       "2   Battle of the Sexes  2017   $hutter  actor          Bobby Riggs Fan  10.0\n",
       "3  Secret in Their Eyes  2015   $hutter  actor          2002 Dodger Fan   NaN\n",
       "4            Steve Jobs  2015   $hutter  actor  1988 Opera House Patron   NaN"
      ]
     },
     "execution_count": 20,
     "metadata": {},
     "output_type": "execute_result"
    }
   ],
   "source": [
    "#Abrindo e mostrando o CSV elenco\n",
    "df2 = pd.read_csv(\"05_05_imdb_elenco.csv\")\n",
    "df2.head()"
   ]
  },
  {
   "cell_type": "code",
   "execution_count": 42,
   "metadata": {},
   "outputs": [
    {
     "name": "stdout",
     "output_type": "stream",
     "text": [
      "O número de registros corresponde a: 3564650\n"
     ]
    }
   ],
   "source": [
    "#Mostrando quantos titulos há:\n",
    "print(f\"O número de registros corresponde a: {len(df2)}\")"
   ]
  },
  {
   "cell_type": "code",
   "execution_count": 6,
   "metadata": {},
   "outputs": [
    {
     "name": "stdout",
     "output_type": "stream",
     "text": [
      "Extra                     5\n",
      "Sandra Corleone           2\n",
      "Street Vendor             2\n",
      "Lucy Mancini              2\n",
      "Al Neri                   2\n",
      "                         ..\n",
      "Anthony, the Bodyguard    1\n",
      "Don Zaluchi               1\n",
      "Douglas Michelson         1\n",
      "B.J. Harrison             1\n",
      "Governess                 1\n",
      "Name: character, Length: 262, dtype: int64\n"
     ]
    }
   ],
   "source": [
    "# Mostrar todas os papéis que teve a trilogia “The Godfather”, \n",
    "# agrupando pelo papel e forneca a informação da quantidade de vezes esse papel apareceu \n",
    "# (exemplo: michael corleone aparece nos 3 filmes da triologia).\n",
    "\n",
    "godfather_trilogy = df2[df2['title'].str.contains('The Godfather', case=False)]\n",
    "papeis_contagem = godfather_trilogy['character'].value_counts()\n",
    "print(papeis_contagem)"
   ]
  },
  {
   "cell_type": "code",
   "execution_count": 16,
   "metadata": {},
   "outputs": [
    {
     "name": "stdout",
     "output_type": "stream",
     "text": [
      "Empty DataFrame\n",
      "Columns: [title, year, name, type, character, n]\n",
      "Index: []\n"
     ]
    }
   ],
   "source": [
    "# Mostrar o elenco completo, ordenado pela classificação “n” do filme “Drácula” de 1958.\n",
    "dracula_1958 = df2[(df2['title'] == 'Drácula') & (df2['year'] == 1958)]\n",
    "elenco_dracula_1958 = dracula_1958.sort_values(by='n')\n",
    "print(dracula_1958)"
   ]
  },
  {
   "cell_type": "code",
   "execution_count": 11,
   "metadata": {},
   "outputs": [
    {
     "name": "stdout",
     "output_type": "stream",
     "text": [
      "Bruce Wayne como protagonista: 0\n",
      "Papéis de Robert de Niro: 0\n"
     ]
    }
   ],
   "source": [
    "# Mostrar quantos papéis teve “Bruce Wayne” como protagonista (Dica: Em Batman de 1989, existe Bruce Wayne e tambem Young Bruce Wayne, que deverão ambos aparecer).\n",
    "# Mostrar quantos papéis fez “Robert de Niro” na sua carreira.\n",
    "\n",
    "\n",
    "papeis_bruce_wayne = df2[(df2['name'].str.contains('Bruce Wayne', case=False, na=False)) & (df2['n'] == 1)].shape[0]\n",
    "\n",
    "papeis_robert_de_niro = df2[df2['name'] == 'Robert de Niro'].shape[0]\n",
    "\n",
    "# Imprimir os resultados\n",
    "print(\"Bruce Wayne como protagonista:\", papeis_bruce_wayne)\n",
    "print(\"Papéis de Robert de Niro:\", papeis_robert_de_niro)"
   ]
  },
  {
   "cell_type": "code",
   "execution_count": 21,
   "metadata": {},
   "outputs": [
    {
     "name": "stdout",
     "output_type": "stream",
     "text": [
      "                            title  year             name   type  \\\n",
      "944074                 Number One  1969  Charlton Heston  actor   \n",
      "944077         Planet of the Apes  1968  Charlton Heston  actor   \n",
      "944050               Counterpoint  1967  Charlton Heston  actor   \n",
      "944120                 Will Penny  1967  Charlton Heston  actor   \n",
      "944066                   Khartoum  1966  Charlton Heston  actor   \n",
      "944068               Major Dundee  1965  Charlton Heston  actor   \n",
      "944085  The Agony and the Ecstasy  1965  Charlton Heston  actor   \n",
      "944111               The War Lord  1965  Charlton Heston  actor   \n",
      "944038          55 Days at Peking  1963  Charlton Heston  actor   \n",
      "944052               Diamond Head  1962  Charlton Heston  actor   \n",
      "944101  The Pigeon That Took Rome  1962  Charlton Heston  actor   \n",
      "944102  The Pigeon That Took Rome  1962  Charlton Heston  actor   \n",
      "944103  The Pigeon That Took Rome  1962  Charlton Heston  actor   \n",
      "944054                     El Cid  1961  Charlton Heston  actor   \n",
      "\n",
      "                            character    n  \n",
      "944074               Ron 'Cat' Catlan  1.0  \n",
      "944077                  George Taylor  1.0  \n",
      "944050                   Lionel Evans  1.0  \n",
      "944120                     Will Penny  1.0  \n",
      "944066  Gen. Charles 'Chinese' Gordon  1.0  \n",
      "944068      Major Amos Charles Dundee  1.0  \n",
      "944085                   Michelangelo  1.0  \n",
      "944111                      Chrysagon  1.0  \n",
      "944038                Maj. Matt Lewis  1.0  \n",
      "944052         Richard 'King' Howland  1.0  \n",
      "944101        Captain Paul MacDougall  1.0  \n",
      "944102               Benny the Snatch  1.0  \n",
      "944103                       Narrator  1.0  \n",
      "944054        El Cid Rodrigo de Vivar  1.0  \n"
     ]
    }
   ],
   "source": [
    "#Listagem de papéis como protagonista (n=1) que teve o ator “Charlton Heston” na década dos 60’s, ordenado por ano de forma descendente.\n",
    "# Filtrar os registros onde \"Charlton Heston\" é protagonista (n=1) e na década de 60\n",
    "papeis_charlton_heston_60s = df2[(df2['name'] == 'Charlton Heston') & (df2['n'] == 1) & (df2['year'] >= 1960) & (df2['year'] <= 1969)]\n",
    "\n",
    "# Ordenar por ano de forma descendente\n",
    "papeis_charlton_heston_60s_ordenados = papeis_charlton_heston_60s.sort_values(by='year', ascending=False)\n",
    "\n",
    "# Imprimir o resultado\n",
    "print(papeis_charlton_heston_60s_ordenados)"
   ]
  },
  {
   "cell_type": "code",
   "execution_count": 19,
   "metadata": {},
   "outputs": [
    {
     "name": "stdout",
     "output_type": "stream",
     "text": [
      "Total de papéis para atores na década de 50: 210002\n"
     ]
    }
   ],
   "source": [
    "#Mostrar quantos papéis para atores teve na década 50’s.\n",
    "papeis_decada_50 = df[df['year'].between(1950, 1959)]\n",
    "total_papeis_decada_50 = papeis_decada_50.shape[0]\n",
    "print(\"Total de papéis para atores na década de 50:\", total_papeis_decada_50)"
   ]
  },
  {
   "cell_type": "code",
   "execution_count": 22,
   "metadata": {},
   "outputs": [
    {
     "name": "stdout",
     "output_type": "stream",
     "text": [
      "Total de papéis para atrizes na década de 50: 56004\n"
     ]
    }
   ],
   "source": [
    "#Mostrar quantos papéis para atrizes teve na década 50’s.\n",
    "papeis_atrizes_decada_50 = df2[(df2['year'].between(1950, 1959)) & (df2['type'] == 'actress')]\n",
    "total_papeis_atrizes_decada_50 = papeis_atrizes_decada_50.shape[0]\n",
    "print(\"Total de papéis para atrizes na década de 50:\", total_papeis_atrizes_decada_50)"
   ]
  },
  {
   "cell_type": "code",
   "execution_count": null,
   "metadata": {},
   "outputs": [],
   "source": []
  }
 ],
 "metadata": {
  "anaconda-cloud": {},
  "kernelspec": {
   "display_name": "Python 3 (ipykernel)",
   "language": "python",
   "name": "python3"
  },
  "language_info": {
   "codemirror_mode": {
    "name": "ipython",
    "version": 3
   },
   "file_extension": ".py",
   "mimetype": "text/x-python",
   "name": "python",
   "nbconvert_exporter": "python",
   "pygments_lexer": "ipython3",
   "version": "3.11.4"
  }
 },
 "nbformat": 4,
 "nbformat_minor": 1
}
